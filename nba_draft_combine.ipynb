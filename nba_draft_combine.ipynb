{
 "cells": [
  {
   "cell_type": "code",
   "execution_count": 1,
   "id": "26f524c3-a588-4b9f-8473-afa565d481fc",
   "metadata": {},
   "outputs": [
    {
     "data": {
      "text/html": [
       "        <script type=\"text/javascript\">\n",
       "        window.PlotlyConfig = {MathJaxConfig: 'local'};\n",
       "        if (window.MathJax && window.MathJax.Hub && window.MathJax.Hub.Config) {window.MathJax.Hub.Config({SVG: {font: \"STIX-Web\"}});}\n",
       "        if (typeof require !== 'undefined') {\n",
       "        require.undef(\"plotly\");\n",
       "        requirejs.config({\n",
       "            paths: {\n",
       "                'plotly': ['https://cdn.plot.ly/plotly-2.32.0.min']\n",
       "            }\n",
       "        });\n",
       "        require(['plotly'], function(Plotly) {\n",
       "            window._Plotly = Plotly;\n",
       "        });\n",
       "        }\n",
       "        </script>\n",
       "        "
      ]
     },
     "metadata": {},
     "output_type": "display_data"
    },
    {
     "data": {
      "text/html": [
       "        <script type=\"text/javascript\">\n",
       "        window.PlotlyConfig = {MathJaxConfig: 'local'};\n",
       "        if (window.MathJax && window.MathJax.Hub && window.MathJax.Hub.Config) {window.MathJax.Hub.Config({SVG: {font: \"STIX-Web\"}});}\n",
       "        if (typeof require !== 'undefined') {\n",
       "        require.undef(\"plotly\");\n",
       "        requirejs.config({\n",
       "            paths: {\n",
       "                'plotly': ['https://cdn.plot.ly/plotly-2.32.0.min']\n",
       "            }\n",
       "        });\n",
       "        require(['plotly'], function(Plotly) {\n",
       "            window._Plotly = Plotly;\n",
       "        });\n",
       "        }\n",
       "        </script>\n",
       "        "
      ]
     },
     "metadata": {},
     "output_type": "display_data"
    }
   ],
   "source": [
    "import pandas as pd\n",
    "import seaborn as sns\n",
    "import matplotlib.pyplot as plt\n",
    "import numpy as np\n",
    "import cufflinks as cf\n",
    "import plotly.express as px\n",
    "import chart_studio.plotly as py\n",
    "from plotly.offline import download_plotlyjs,init_notebook_mode,plot,iplot\n",
    "init_notebook_mode(connected=True)\n",
    "cf.go_offline()\n",
    "import plotly.figure_factory as ff\n",
    "from sklearn.impute import SimpleImputer\n",
    "%matplotlib inline\n"
   ]
  },
  {
   "cell_type": "code",
   "execution_count": 2,
   "id": "5a31fc64-7af7-4952-ba39-0a40bc1bbe88",
   "metadata": {},
   "outputs": [],
   "source": [
    "df1 = pd.read_csv(r\"2012_nba_draft_combine.csv\")\n",
    "df2 = pd.read_csv(r\"2013_nba_draft_combine.csv\")\n",
    "df3 = pd.read_csv(r\"2014_nba_draft_combine.csv\")\n",
    "df4 = pd.read_csv(r\"2015_nba_draft_combine.csv\")\n",
    "df5 = pd.read_csv(r\"2016_nba_draft_combine.csv\")"
   ]
  },
  {
   "cell_type": "code",
   "execution_count": 3,
   "id": "538ac36e-5a25-4c5f-ade3-7477a0a0e0cb",
   "metadata": {},
   "outputs": [],
   "source": [
    "df = pd.concat([df1, df2, df3, df4, df5], ignore_index=True,axis=0)"
   ]
  },
  {
   "cell_type": "code",
   "execution_count": 4,
   "id": "017af87e-1ead-40ab-bf87-07a31bc51cef",
   "metadata": {},
   "outputs": [],
   "source": [
    "df=df.iloc[:,1:]"
   ]
  },
  {
   "cell_type": "code",
   "execution_count": 5,
   "id": "d846b258-185c-4805-a2cb-dc072286849a",
   "metadata": {},
   "outputs": [
    {
     "data": {
      "text/html": [
       "<div>\n",
       "<style scoped>\n",
       "    .dataframe tbody tr th:only-of-type {\n",
       "        vertical-align: middle;\n",
       "    }\n",
       "\n",
       "    .dataframe tbody tr th {\n",
       "        vertical-align: top;\n",
       "    }\n",
       "\n",
       "    .dataframe thead th {\n",
       "        text-align: right;\n",
       "    }\n",
       "</style>\n",
       "<table border=\"1\" class=\"dataframe\">\n",
       "  <thead>\n",
       "    <tr style=\"text-align: right;\">\n",
       "      <th></th>\n",
       "      <th>Player</th>\n",
       "      <th>Year</th>\n",
       "      <th>Draft pick</th>\n",
       "      <th>Height (No Shoes)</th>\n",
       "      <th>Height (With Shoes)</th>\n",
       "      <th>Wingspan</th>\n",
       "      <th>Standing reach</th>\n",
       "      <th>Vertical (Max)</th>\n",
       "      <th>Vertical (Max Reach)</th>\n",
       "      <th>Vertical (No Step)</th>\n",
       "      <th>Vertical (No Step Reach)</th>\n",
       "      <th>Weight</th>\n",
       "      <th>Body Fat</th>\n",
       "      <th>Hand (Length)</th>\n",
       "      <th>Hand (Width)</th>\n",
       "      <th>Bench</th>\n",
       "      <th>Agility</th>\n",
       "      <th>Sprint</th>\n",
       "    </tr>\n",
       "  </thead>\n",
       "  <tbody>\n",
       "    <tr>\n",
       "      <th>0</th>\n",
       "      <td>Andre Drummond</td>\n",
       "      <td>2012</td>\n",
       "      <td>9.0</td>\n",
       "      <td>81.75</td>\n",
       "      <td>83.75</td>\n",
       "      <td>90.25</td>\n",
       "      <td>109.5</td>\n",
       "      <td>33.5</td>\n",
       "      <td>143.0</td>\n",
       "      <td>31.5</td>\n",
       "      <td>141.0</td>\n",
       "      <td>279.0</td>\n",
       "      <td>7.5</td>\n",
       "      <td>9.50</td>\n",
       "      <td>9.50</td>\n",
       "      <td>10.0</td>\n",
       "      <td>10.83</td>\n",
       "      <td>3.39</td>\n",
       "    </tr>\n",
       "    <tr>\n",
       "      <th>1</th>\n",
       "      <td>Andrew Nicholson</td>\n",
       "      <td>2012</td>\n",
       "      <td>19.0</td>\n",
       "      <td>80.50</td>\n",
       "      <td>81.50</td>\n",
       "      <td>88.00</td>\n",
       "      <td>107.0</td>\n",
       "      <td>30.5</td>\n",
       "      <td>137.5</td>\n",
       "      <td>28.5</td>\n",
       "      <td>135.5</td>\n",
       "      <td>234.0</td>\n",
       "      <td>7.6</td>\n",
       "      <td>10.00</td>\n",
       "      <td>10.75</td>\n",
       "      <td>10.0</td>\n",
       "      <td>11.89</td>\n",
       "      <td>3.67</td>\n",
       "    </tr>\n",
       "    <tr>\n",
       "      <th>2</th>\n",
       "      <td>Anthony Davis</td>\n",
       "      <td>2012</td>\n",
       "      <td>1.0</td>\n",
       "      <td>81.25</td>\n",
       "      <td>82.50</td>\n",
       "      <td>89.50</td>\n",
       "      <td>108.0</td>\n",
       "      <td>NaN</td>\n",
       "      <td>NaN</td>\n",
       "      <td>NaN</td>\n",
       "      <td>NaN</td>\n",
       "      <td>222.0</td>\n",
       "      <td>7.9</td>\n",
       "      <td>9.00</td>\n",
       "      <td>8.50</td>\n",
       "      <td>NaN</td>\n",
       "      <td>NaN</td>\n",
       "      <td>NaN</td>\n",
       "    </tr>\n",
       "    <tr>\n",
       "      <th>3</th>\n",
       "      <td>Arnett Moultrie</td>\n",
       "      <td>2012</td>\n",
       "      <td>27.0</td>\n",
       "      <td>81.50</td>\n",
       "      <td>82.75</td>\n",
       "      <td>86.25</td>\n",
       "      <td>106.5</td>\n",
       "      <td>37.5</td>\n",
       "      <td>144.0</td>\n",
       "      <td>33.5</td>\n",
       "      <td>140.0</td>\n",
       "      <td>233.0</td>\n",
       "      <td>7.7</td>\n",
       "      <td>9.25</td>\n",
       "      <td>9.25</td>\n",
       "      <td>10.0</td>\n",
       "      <td>11.32</td>\n",
       "      <td>3.22</td>\n",
       "    </tr>\n",
       "    <tr>\n",
       "      <th>4</th>\n",
       "      <td>Austin Rivers</td>\n",
       "      <td>2012</td>\n",
       "      <td>10.0</td>\n",
       "      <td>75.50</td>\n",
       "      <td>77.00</td>\n",
       "      <td>79.25</td>\n",
       "      <td>96.5</td>\n",
       "      <td>37.5</td>\n",
       "      <td>134.0</td>\n",
       "      <td>32.5</td>\n",
       "      <td>129.0</td>\n",
       "      <td>203.0</td>\n",
       "      <td>6.2</td>\n",
       "      <td>8.50</td>\n",
       "      <td>10.00</td>\n",
       "      <td>1.0</td>\n",
       "      <td>11.54</td>\n",
       "      <td>3.32</td>\n",
       "    </tr>\n",
       "  </tbody>\n",
       "</table>\n",
       "</div>"
      ],
      "text/plain": [
       "             Player  Year  Draft pick  Height (No Shoes)  Height (With Shoes)  \\\n",
       "0    Andre Drummond  2012         9.0              81.75                83.75   \n",
       "1  Andrew Nicholson  2012        19.0              80.50                81.50   \n",
       "2     Anthony Davis  2012         1.0              81.25                82.50   \n",
       "3   Arnett Moultrie  2012        27.0              81.50                82.75   \n",
       "4     Austin Rivers  2012        10.0              75.50                77.00   \n",
       "\n",
       "   Wingspan  Standing reach  Vertical (Max)  Vertical (Max Reach)  \\\n",
       "0     90.25           109.5            33.5                 143.0   \n",
       "1     88.00           107.0            30.5                 137.5   \n",
       "2     89.50           108.0             NaN                   NaN   \n",
       "3     86.25           106.5            37.5                 144.0   \n",
       "4     79.25            96.5            37.5                 134.0   \n",
       "\n",
       "   Vertical (No Step)  Vertical (No Step Reach)  Weight  Body Fat  \\\n",
       "0                31.5                     141.0   279.0       7.5   \n",
       "1                28.5                     135.5   234.0       7.6   \n",
       "2                 NaN                       NaN   222.0       7.9   \n",
       "3                33.5                     140.0   233.0       7.7   \n",
       "4                32.5                     129.0   203.0       6.2   \n",
       "\n",
       "   Hand (Length)  Hand (Width)  Bench  Agility  Sprint  \n",
       "0           9.50          9.50   10.0    10.83    3.39  \n",
       "1          10.00         10.75   10.0    11.89    3.67  \n",
       "2           9.00          8.50    NaN      NaN     NaN  \n",
       "3           9.25          9.25   10.0    11.32    3.22  \n",
       "4           8.50         10.00    1.0    11.54    3.32  "
      ]
     },
     "execution_count": 5,
     "metadata": {},
     "output_type": "execute_result"
    }
   ],
   "source": [
    "df.head()"
   ]
  },
  {
   "cell_type": "code",
   "execution_count": 6,
   "id": "2846f140-ba62-4a96-8415-aff703ffc39c",
   "metadata": {},
   "outputs": [
    {
     "data": {
      "text/plain": [
       "(306, 18)"
      ]
     },
     "execution_count": 6,
     "metadata": {},
     "output_type": "execute_result"
    }
   ],
   "source": [
    "df.shape"
   ]
  },
  {
   "cell_type": "code",
   "execution_count": 7,
   "id": "ec9d3afa-2a10-45c2-a0ac-8febf698a7bc",
   "metadata": {},
   "outputs": [],
   "source": [
    "imputer_mean = SimpleImputer(missing_values = np.nan,strategy = 'mean')\n",
    "imputer_mean = SimpleImputer(missing_values = np.nan,strategy = 'median')\n",
    "imputer_mode = SimpleImputer(strategy='most_frequent')"
   ]
  },
  {
   "cell_type": "code",
   "execution_count": 8,
   "id": "d61b098b-b269-4e15-89fd-be5fab05d0a2",
   "metadata": {},
   "outputs": [
    {
     "name": "stdout",
     "output_type": "stream",
     "text": [
      "<class 'pandas.core.frame.DataFrame'>\n",
      "RangeIndex: 306 entries, 0 to 305\n",
      "Data columns (total 18 columns):\n",
      " #   Column                    Non-Null Count  Dtype  \n",
      "---  ------                    --------------  -----  \n",
      " 0   Player                    306 non-null    object \n",
      " 1   Year                      306 non-null    int64  \n",
      " 2   Draft pick                215 non-null    float64\n",
      " 3   Height (No Shoes)         306 non-null    float64\n",
      " 4   Height (With Shoes)       306 non-null    float64\n",
      " 5   Wingspan                  306 non-null    float64\n",
      " 6   Standing reach            306 non-null    float64\n",
      " 7   Vertical (Max)            257 non-null    float64\n",
      " 8   Vertical (Max Reach)      257 non-null    float64\n",
      " 9   Vertical (No Step)        258 non-null    float64\n",
      " 10  Vertical (No Step Reach)  258 non-null    float64\n",
      " 11  Weight                    305 non-null    float64\n",
      " 12  Body Fat                  305 non-null    float64\n",
      " 13  Hand (Length)             306 non-null    float64\n",
      " 14  Hand (Width)              306 non-null    float64\n",
      " 15  Bench                     149 non-null    float64\n",
      " 16  Agility                   254 non-null    float64\n",
      " 17  Sprint                    253 non-null    float64\n",
      "dtypes: float64(16), int64(1), object(1)\n",
      "memory usage: 43.2+ KB\n"
     ]
    }
   ],
   "source": [
    "df.info()"
   ]
  },
  {
   "cell_type": "code",
   "execution_count": 9,
   "id": "d4a3df65-2243-4f7f-94f1-92af33cf7987",
   "metadata": {},
   "outputs": [
    {
     "data": {
      "text/plain": [
       "Player                        0\n",
       "Year                          0\n",
       "Draft pick                   91\n",
       "Height (No Shoes)             0\n",
       "Height (With Shoes)           0\n",
       "Wingspan                      0\n",
       "Standing reach                0\n",
       "Vertical (Max)               49\n",
       "Vertical (Max Reach)         49\n",
       "Vertical (No Step)           48\n",
       "Vertical (No Step Reach)     48\n",
       "Weight                        1\n",
       "Body Fat                      1\n",
       "Hand (Length)                 0\n",
       "Hand (Width)                  0\n",
       "Bench                       157\n",
       "Agility                      52\n",
       "Sprint                       53\n",
       "dtype: int64"
      ]
     },
     "execution_count": 9,
     "metadata": {},
     "output_type": "execute_result"
    }
   ],
   "source": [
    "df.isnull().sum()"
   ]
  },
  {
   "cell_type": "code",
   "execution_count": 10,
   "id": "a10e5326-f9e1-4d26-94d6-7d71f3e24cc1",
   "metadata": {},
   "outputs": [
    {
     "data": {
      "text/plain": [
       "array([ 9., 19.,  1., 27., 10., 33.,  3.,  6., 55., 46.,  4., 42., 35.,\n",
       "       nan, 22., 30.,  7., 34., 24., 21., 31., 12., 14., 23., 13., 47.,\n",
       "       39., 44., 51., 49., 59., 29., 11.,  2., 43., 26., 15., 36., 28.,\n",
       "       37., 38., 58., 16., 18.,  8.,  5., 32., 25., 17., 41., 40., 53.,\n",
       "       50., 52., 56., 48., 20., 60., 45., 54.])"
      ]
     },
     "execution_count": 10,
     "metadata": {},
     "output_type": "execute_result"
    }
   ],
   "source": [
    "df[\"Draft pick\"].unique()"
   ]
  },
  {
   "cell_type": "code",
   "execution_count": 11,
   "id": "2e43ec54-ef35-4329-aa36-d3ed2a8f8d62",
   "metadata": {},
   "outputs": [
    {
     "data": {
      "text/plain": [
       "count    215.000000\n",
       "mean      29.000000\n",
       "std       16.127413\n",
       "min        1.000000\n",
       "25%       15.000000\n",
       "50%       29.000000\n",
       "75%       42.000000\n",
       "max       60.000000\n",
       "Name: Draft pick, dtype: float64"
      ]
     },
     "execution_count": 11,
     "metadata": {},
     "output_type": "execute_result"
    }
   ],
   "source": [
    "df[\"Draft pick\"].describe(include=\"all\")"
   ]
  },
  {
   "cell_type": "code",
   "execution_count": 12,
   "id": "282222be-cfa5-4e7e-a945-8b0cbb8a1fb1",
   "metadata": {},
   "outputs": [
    {
     "data": {
      "text/plain": [
       "Draft pick\n",
       "9.0     5\n",
       "18.0    5\n",
       "17.0    5\n",
       "34.0    5\n",
       "49.0    5\n",
       "22.0    5\n",
       "8.0     5\n",
       "42.0    5\n",
       "6.0     5\n",
       "36.0    5\n",
       "33.0    5\n",
       "10.0    5\n",
       "37.0    5\n",
       "14.0    5\n",
       "43.0    4\n",
       "13.0    4\n",
       "11.0    4\n",
       "19.0    4\n",
       "28.0    4\n",
       "51.0    4\n",
       "44.0    4\n",
       "25.0    4\n",
       "12.0    4\n",
       "23.0    4\n",
       "30.0    4\n",
       "27.0    4\n",
       "46.0    4\n",
       "56.0    4\n",
       "58.0    4\n",
       "38.0    4\n",
       "40.0    4\n",
       "24.0    4\n",
       "21.0    4\n",
       "41.0    4\n",
       "32.0    3\n",
       "5.0     3\n",
       "48.0    3\n",
       "20.0    3\n",
       "45.0    3\n",
       "50.0    3\n",
       "59.0    3\n",
       "26.0    3\n",
       "2.0     3\n",
       "29.0    3\n",
       "39.0    3\n",
       "47.0    3\n",
       "31.0    3\n",
       "7.0     3\n",
       "15.0    3\n",
       "35.0    3\n",
       "4.0     3\n",
       "55.0    3\n",
       "3.0     3\n",
       "16.0    2\n",
       "52.0    2\n",
       "1.0     1\n",
       "53.0    1\n",
       "60.0    1\n",
       "54.0    1\n",
       "Name: count, dtype: int64"
      ]
     },
     "execution_count": 12,
     "metadata": {},
     "output_type": "execute_result"
    }
   ],
   "source": [
    "df[\"Draft pick\"].value_counts()"
   ]
  },
  {
   "cell_type": "code",
   "execution_count": 13,
   "id": "8aa98cc6-f9b4-43f2-bbfb-18a1de422087",
   "metadata": {},
   "outputs": [
    {
     "data": {
      "text/plain": [
       "<Axes: xlabel='Draft pick', ylabel='count'>"
      ]
     },
     "execution_count": 13,
     "metadata": {},
     "output_type": "execute_result"
    },
    {
     "data": {
      "image/png": "[encoded data removed]",
      "text/plain": [
       "<Figure size 2000x1500 with 1 Axes>"
      ]
     },
     "metadata": {},
     "output_type": "display_data"
    }
   ],
   "source": [
    "plt.figure(figsize=(20,15))\n",
    "sns.countplot(x=\"Draft pick\",data=df)"
   ]
  },
  {
   "cell_type": "code",
   "execution_count": 14,
   "id": "5da46ced-9e67-4ce4-ae6c-87bf0585eef1",
   "metadata": {},
   "outputs": [],
   "source": [
    "df[\"Draft pick\"]=imputer_mean.fit_transform(np.array(df[\"Draft pick\"]).reshape(-1,1))"
   ]
  },
  {
   "cell_type": "code",
   "execution_count": 15,
   "id": "6356a591-d863-4189-9879-9e805b3dc4fd",
   "metadata": {},
   "outputs": [
    {
     "data": {
      "text/plain": [
       "False"
      ]
     },
     "execution_count": 15,
     "metadata": {},
     "output_type": "execute_result"
    }
   ],
   "source": [
    "df[\"Draft pick\"].isnull().sum().any()"
   ]
  },
  {
   "cell_type": "code",
   "execution_count": 16,
   "id": "e51ddd7b-2a3d-4871-99e2-110dd705fee5",
   "metadata": {},
   "outputs": [],
   "source": [
    "df[\"Draft pick\"]=df[\"Draft pick\"].astype(int)"
   ]
  },
  {
   "cell_type": "code",
   "execution_count": 17,
   "id": "1d4df59d-1031-49d4-bcc1-393784d21af1",
   "metadata": {},
   "outputs": [
    {
     "data": {
      "text/plain": [
       "array([33.5, 30.5,  nan, 37.5, 32.5, 39. , 39.5, 41.5, 37. , 33. , 34. ,\n",
       "       31. , 29.5, 36.5, 34.5, 40. , 38. , 30. , 35. , 31.5, 40.5, 35.5,\n",
       "       38.5, 36. , 42. , 32. , 29. , 41. , 44. , 43.5, 28.5, 25. , 43. ,\n",
       "       28. ])"
      ]
     },
     "execution_count": 17,
     "metadata": {},
     "output_type": "execute_result"
    }
   ],
   "source": [
    "df[\"Vertical (Max)\"].unique()"
   ]
  },
  {
   "cell_type": "code",
   "execution_count": 18,
   "id": "8e007c7e-e508-462f-97b7-7533b2998e6d",
   "metadata": {},
   "outputs": [
    {
     "data": {
      "text/plain": [
       "numpy.float64"
      ]
     },
     "execution_count": 18,
     "metadata": {},
     "output_type": "execute_result"
    }
   ],
   "source": [
    "type(df[\"Vertical (Max)\"][0])"
   ]
  },
  {
   "cell_type": "code",
   "execution_count": 19,
   "id": "115ccd11-8fd0-422c-93b3-aef2227b9e62",
   "metadata": {},
   "outputs": [
    {
     "data": {
      "text/plain": [
       "count    257.000000\n",
       "mean      35.638132\n",
       "std        3.595704\n",
       "min       25.000000\n",
       "25%       33.000000\n",
       "50%       35.500000\n",
       "75%       38.000000\n",
       "max       44.000000\n",
       "Name: Vertical (Max), dtype: float64"
      ]
     },
     "execution_count": 19,
     "metadata": {},
     "output_type": "execute_result"
    }
   ],
   "source": [
    "df[\"Vertical (Max)\"].describe(include=\"all\")"
   ]
  },
  {
   "cell_type": "code",
   "execution_count": 20,
   "id": "65456f6d-4185-4d7b-a3e0-c9dfd4dae3ae",
   "metadata": {},
   "outputs": [
    {
     "data": {
      "text/plain": [
       "Vertical (Max)\n",
       "35.5    22\n",
       "36.5    16\n",
       "34.5    15\n",
       "37.5    15\n",
       "36.0    13\n",
       "38.0    12\n",
       "37.0    12\n",
       "34.0    12\n",
       "32.5    11\n",
       "31.0    10\n",
       "33.5    10\n",
       "39.5    10\n",
       "35.0     9\n",
       "40.5     9\n",
       "31.5     8\n",
       "38.5     8\n",
       "32.0     8\n",
       "29.5     7\n",
       "33.0     6\n",
       "40.0     6\n",
       "41.5     6\n",
       "29.0     4\n",
       "44.0     3\n",
       "28.5     3\n",
       "43.0     3\n",
       "43.5     3\n",
       "30.0     3\n",
       "41.0     3\n",
       "30.5     3\n",
       "39.0     3\n",
       "42.0     2\n",
       "25.0     1\n",
       "28.0     1\n",
       "Name: count, dtype: int64"
      ]
     },
     "execution_count": 20,
     "metadata": {},
     "output_type": "execute_result"
    }
   ],
   "source": [
    "df[\"Vertical (Max)\"].value_counts()"
   ]
  },
  {
   "cell_type": "code",
   "execution_count": 21,
   "id": "33e5fef6-6d5a-4957-ab02-cd5dee114cc5",
   "metadata": {},
   "outputs": [
    {
     "data": {
      "text/plain": [
       "<Axes: xlabel='Vertical (Max)', ylabel='count'>"
      ]
     },
     "execution_count": 21,
     "metadata": {},
     "output_type": "execute_result"
    },
    {
     "data": {
      "image/png": "[encoded data removed]",
      "text/plain": [
       "<Figure size 2000x1500 with 1 Axes>"
      ]
     },
     "metadata": {},
     "output_type": "display_data"
    }
   ],
   "source": [
    "plt.figure(figsize=(20,15))\n",
    "sns.countplot(x=\"Vertical (Max)\",data=df)"
   ]
  },
  {
   "cell_type": "code",
   "execution_count": 22,
   "id": "208589b9-96d5-4fb4-8555-e2273c506dfb",
   "metadata": {},
   "outputs": [],
   "source": [
    "df[\"Vertical (Max)\"]=imputer_mode.fit_transform(np.array(df[\"Vertical (Max)\"]).reshape(-1,1))"
   ]
  },
  {
   "cell_type": "code",
   "execution_count": null,
   "id": "e442416a-bfaf-4aa1-87bf-7152a2699e59",
   "metadata": {},
   "outputs": [],
   "source": []
  }
 ],
 "metadata": {
  "kernelspec": {
   "display_name": "Python 3 (ipykernel)",
   "language": "python",
   "name": "python3"
  },
  "language_info": {
   "codemirror_mode": {
    "name": "ipython",
    "version": 3
   },
   "file_extension": ".py",
   "mimetype": "text/x-python",
   "name": "python",
   "nbconvert_exporter": "python",
   "pygments_lexer": "ipython3",
   "version": "3.12.4"
  }
 },
 "nbformat": 4,
 "nbformat_minor": 5
}
